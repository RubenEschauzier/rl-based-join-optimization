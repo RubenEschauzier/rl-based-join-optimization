{
 "cells": [
  {
   "cell_type": "markdown",
   "id": "e4c01623",
   "metadata": {},
   "source": [
    "# This Script transforms a .ttl file with URIS containing ids to a .txt file in the \"G-Care\" format\n"
   ]
  },
  {
   "cell_type": "code",
   "id": "fa6714f1",
   "metadata": {
    "ExecuteTime": {
     "end_time": "2025-08-20T15:22:00.886100Z",
     "start_time": "2025-08-20T15:22:00.872092Z"
    }
   },
   "source": [
    "# From: https://github.com/DE-TUM/GNCE\n",
    "import os\n",
    "import json\n",
    "import random\n",
    "from tqdm import tqdm"
   ],
   "outputs": [],
   "execution_count": 33
  },
  {
   "cell_type": "code",
   "id": "d8a2ad1f",
   "metadata": {
    "ExecuteTime": {
     "end_time": "2025-08-20T15:22:00.916098Z",
     "start_time": "2025-08-20T15:22:00.892093Z"
    }
   },
   "source": [
    "# Sets of entities and predicates\n",
    "vertices = set()\n",
    "predicates = set()"
   ],
   "outputs": [],
   "execution_count": 34
  },
  {
   "cell_type": "code",
   "id": "8f5ebaa1",
   "metadata": {
    "ExecuteTime": {
     "end_time": "2025-08-20T15:22:01.599380Z",
     "start_time": "2025-08-20T15:22:01.585099Z"
    }
   },
   "source": [
    "# For which dataset to load the turtle or nt file\n",
    "dataset = \"yago\"\n",
    "# Under which name to save the resulting g-care graph\n",
    "gcare_graph_savename = \"yago\""
   ],
   "outputs": [],
   "execution_count": 35
  },
  {
   "cell_type": "code",
   "id": "052ada4e",
   "metadata": {
    "ExecuteTime": {
     "end_time": "2025-08-20T15:22:02.328627Z",
     "start_time": "2025-08-20T15:22:02.314594Z"
    }
   },
   "source": [
    "from src.utils.validation_utils.utils_prepare_gcare_inputs import dataset_to_g_care\n",
    "\n",
    "# Declare which URI corresponds to rdf:type\n",
    "rdf_type_uri = dataset_to_g_care[dataset]\n",
    "\n",
    "if not rdf_type_uri:\n",
    "    raise AssertionError(\"rdf type uri missing !\")\n",
    "\n",
    "dataset_location = r\"C:\\Users\\ruben\\Downloads\\datasets_used_gcne\\yago\\graph\\yago.nt\"\n",
    "output_location = r\"C:\\Users\\ruben\\Downloads\\datasets_used_gcne\\{}\\{}.txt\".format(dataset, gcare_graph_savename)\n",
    "output_id_to_id = r\"C:\\Users\\ruben\\Downloads\\datasets_used_gcne\\{}\\id_to_id_{}.json\".format(dataset, gcare_graph_savename)\n",
    "output_id_to_id_predicate = r\"C:\\Users\\ruben\\Downloads\\datasets_used_gcne\\{}\\id_to_id_predicate_{}.json\".format(dataset, gcare_graph_savename)"
   ],
   "outputs": [],
   "execution_count": 36
  },
  {
   "cell_type": "code",
   "id": "d3df23cd",
   "metadata": {
    "ExecuteTime": {
     "end_time": "2025-08-20T15:22:02.937810Z",
     "start_time": "2025-08-20T15:22:02.923671Z"
    }
   },
   "source": [
    "# OPTIONAL: define a set of entities to exclude from the graph. Those wont be stored as vertices,\n",
    "# and related edges are also not stored\n",
    "excluded_entities = set()\n",
    "\n",
    "# excluded_query_type = 'star'\n",
    "# In this case, we open the inductive test set from the graph\n",
    "# Specifically, we are adding all the objects only, as the subjects are always variables,\n",
    "# and the predicates are assumed to be known\n",
    "\n",
    "\n",
    "# with open(f\"/home/tim/Datasets/{dataset}/{excluded_query_type}/disjoint_test.json\") as f:\n",
    "#     test_data = json.load(f)\n",
    "    \n",
    "# for query in test_data:\n",
    "#     excluded_entities.update([a[2] for a in query[\"triples\"] if not \"?\" in a[2]])"
   ],
   "outputs": [],
   "execution_count": 37
  },
  {
   "cell_type": "code",
   "id": "151c3656",
   "metadata": {
    "ExecuteTime": {
     "end_time": "2025-08-20T15:22:03.572619Z",
     "start_time": "2025-08-20T15:22:03.558626Z"
    }
   },
   "source": [
    "len(excluded_entities)"
   ],
   "outputs": [
    {
     "data": {
      "text/plain": [
       "0"
      ]
     },
     "execution_count": 38,
     "metadata": {},
     "output_type": "execute_result"
    }
   ],
   "execution_count": 38
  },
  {
   "cell_type": "code",
   "id": "2bb16958",
   "metadata": {
    "ExecuteTime": {
     "end_time": "2025-08-20T15:23:03.017075Z",
     "start_time": "2025-08-20T15:22:04.216864Z"
    }
   },
   "source": [
    "# Add all entities and predicates from the .ttl file\n",
    "n_excluded_entites = set()\n",
    "l = 0\n",
    "ttl_file = open(dataset_location, \"r\")\n",
    "for line in tqdm(ttl_file):\n",
    "    atoms = line.split(\" \")[:-1]\n",
    "    #if not atoms == []:\n",
    "    if True:\n",
    "        l += 1\n",
    "        if not atoms[2] in excluded_entities:\n",
    "            vertices.add(atoms[0])\n",
    "        if not atoms[2] in excluded_entities:\n",
    "            vertices.add(atoms[2])\n",
    "        else:\n",
    "            n_excluded_entites.update([atoms[2]])\n",
    "        predicates.add(atoms[1])\n",
    "        \n",
    "print('Finished collecting vertices and predicates')\n",
    "print(f'Excluded {len(n_excluded_entites)} entities')"
   ],
   "outputs": [
    {
     "name": "stderr",
     "output_type": "stream",
     "text": [
      "58276870it [00:58, 991935.38it/s] "
     ]
    },
    {
     "name": "stdout",
     "output_type": "stream",
     "text": [
      "Finished collecting vertices and predicates\n",
      "Excluded 0 entities\n"
     ]
    },
    {
     "name": "stderr",
     "output_type": "stream",
     "text": [
      "\n"
     ]
    }
   ],
   "execution_count": 39
  },
  {
   "cell_type": "code",
   "id": "36e5b2c4",
   "metadata": {
    "ExecuteTime": {
     "end_time": "2025-08-20T15:23:14.039378Z",
     "start_time": "2025-08-20T15:23:14.025187Z"
    }
   },
   "source": [
    "assert len(excluded_entities)==len(n_excluded_entites)"
   ],
   "outputs": [],
   "execution_count": 40
  },
  {
   "cell_type": "code",
   "id": "aeb38a14",
   "metadata": {
    "ExecuteTime": {
     "end_time": "2025-08-20T15:23:25.000366Z",
     "start_time": "2025-08-20T15:23:24.985368Z"
    }
   },
   "source": [
    "# We need to map the URL ids to entity and predicate ids\n",
    "id_to_id_mapping = {}\n",
    "id_to_id_mapping_predicate = {}"
   ],
   "outputs": [],
   "execution_count": 41
  },
  {
   "cell_type": "code",
   "id": "990b6d4c",
   "metadata": {
    "ExecuteTime": {
     "end_time": "2025-08-20T15:23:56.235098Z",
     "start_time": "2025-08-20T15:23:35.679854Z"
    }
   },
   "source": [
    "# Creating Vertex Dict and save entity mappings\n",
    "vertex_dict = {}\n",
    "vid = 0\n",
    "for vertex in tqdm(vertices):\n",
    "    dvid = vertex.split(\"/\")[-1].replace(\">\", \"\")\n",
    "    #vertex_dict[vertex] = [dvid]\n",
    "    vertex_dict[vertex] = [vid]\n",
    "    id_to_id_mapping[vertex] = vid\n",
    "    vid += 1"
   ],
   "outputs": [
    {
     "name": "stderr",
     "output_type": "stream",
     "text": [
      "100%|██████████| 13000080/13000080 [00:20<00:00, 635316.08it/s] \n"
     ]
    }
   ],
   "execution_count": 42
  },
  {
   "cell_type": "code",
   "id": "5be799a3",
   "metadata": {
    "ExecuteTime": {
     "end_time": "2025-08-20T15:24:58.766166Z",
     "start_time": "2025-08-20T15:24:58.751788Z"
    }
   },
   "source": [
    "# Saving Mappings for Predicates\n",
    "pid = 0\n",
    "for p in predicates:\n",
    "    id_to_id_mapping_predicate[p] = pid\n",
    "    pid += 1"
   ],
   "outputs": [],
   "execution_count": 43
  },
  {
   "cell_type": "code",
   "id": "94632e02",
   "metadata": {
    "ExecuteTime": {
     "end_time": "2025-08-20T15:25:55.543527Z",
     "start_time": "2025-08-20T15:24:58.770983Z"
    }
   },
   "source": [
    "# Add Vertex types\n",
    "ttl_file = open(dataset_location, \"r\")\n",
    "for line in tqdm(ttl_file):\n",
    "    atoms = line.split(\" \")[:-1]\n",
    "    if not (atoms[0] in excluded_entities) and not (atoms[2] in excluded_entities):\n",
    "        # If triple has predicate rdf:type\n",
    "        if atoms[1] == rdf_type_uri:\n",
    "            vertex_dict[atoms[0]] += vertex_dict[atoms[2]]\n"
   ],
   "outputs": [
    {
     "name": "stderr",
     "output_type": "stream",
     "text": [
      "58276870it [00:56, 1026717.87it/s]\n"
     ]
    }
   ],
   "execution_count": 44
  },
  {
   "cell_type": "code",
   "id": "f2a3fb43",
   "metadata": {
    "ExecuteTime": {
     "end_time": "2025-08-20T15:26:32.509205Z",
     "start_time": "2025-08-20T15:26:28.696017Z"
    }
   },
   "source": [
    "# Add Default Label if entity has no types:\n",
    "for v in vertex_dict:\n",
    "    if len(vertex_dict[v]) == 1:\n",
    "        vertex_dict[v].append(0)"
   ],
   "outputs": [],
   "execution_count": 45
  },
  {
   "cell_type": "code",
   "id": "2904ad4c",
   "metadata": {
    "ExecuteTime": {
     "end_time": "2025-08-20T15:29:03.683886Z",
     "start_time": "2025-08-20T15:27:05.149267Z"
    }
   },
   "source": [
    "# Creating Edge List\n",
    "n_skipped_edges = 0\n",
    "edge_list = []\n",
    "ttl_file = open(dataset_location, \"r\")\n",
    "for tp in tqdm(ttl_file):\n",
    "    tp = tp.split(\" \")[:-1]\n",
    "    if not (tp[0] in excluded_entities) and not (tp[2] in excluded_entities):\n",
    "    #edge_label = tp[1].split(\"/\")[-1].replace(\">\", \"\") if not \"?\" in tp[1] else -1\n",
    "        edge_list.append([vertex_dict[tp[0]][0], vertex_dict[tp[2]][0], id_to_id_mapping_predicate[tp[1]]])\n",
    "    else:\n",
    "        n_skipped_edges +=1\n",
    "print('Finished creating edge list')\n",
    "print(f'Dropped a total of {n_skipped_edges} edges')"
   ],
   "outputs": [
    {
     "name": "stderr",
     "output_type": "stream",
     "text": [
      "58276870it [01:58, 492362.73it/s]"
     ]
    },
    {
     "name": "stdout",
     "output_type": "stream",
     "text": [
      "Finished creating edge list\n",
      "Dropped a total of 0 edges\n"
     ]
    },
    {
     "name": "stderr",
     "output_type": "stream",
     "text": [
      "\n"
     ]
    }
   ],
   "execution_count": 46
  },
  {
   "cell_type": "code",
   "id": "fbc7255e",
   "metadata": {
    "ExecuteTime": {
     "end_time": "2025-08-20T15:32:23.010185Z",
     "start_time": "2025-08-20T15:30:06.261853Z"
    }
   },
   "source": [
    "# Writing the Data File\n",
    "with open(output_location, \"w\") as f:\n",
    "    f.write(\"t # 1\")\n",
    "    f.write(\"\\n\")\n",
    "    for v in tqdm(vertex_dict):\n",
    "        f.write(\"v\")\n",
    "        for p in vertex_dict[v]:\n",
    "            f.write(\" \")\n",
    "            f.write(str(p) + \"\")\n",
    "        #f.write(\"v \" + str(vertex_dict[v][0]) + \" \")\n",
    "        f.write(\"\\n\")\n",
    "    for e in tqdm(edge_list):\n",
    "        f.write(\"e \" + str(e[0]) + \" \" + str(e[1]) + \" \" + str(e[2]))\n",
    "        f.write(\"\\n\")"
   ],
   "outputs": [
    {
     "name": "stderr",
     "output_type": "stream",
     "text": [
      "100%|██████████| 13000080/13000080 [00:50<00:00, 257930.04it/s]\n",
      "100%|██████████| 58276870/58276870 [01:26<00:00, 675096.53it/s]\n"
     ]
    }
   ],
   "execution_count": 47
  },
  {
   "cell_type": "code",
   "id": "221c6764",
   "metadata": {
    "ExecuteTime": {
     "end_time": "2025-08-20T15:33:16.947538Z",
     "start_time": "2025-08-20T15:32:55.065942Z"
    }
   },
   "source": [
    "# Save to ID to ID mapping for later query transformation\n",
    "with open(output_id_to_id, \"w\") as f:\n",
    "    json.dump(id_to_id_mapping, f)\n",
    "\n",
    "with open(output_id_to_id_predicate, \"w\") as f:\n",
    "    json.dump(id_to_id_mapping_predicate, f)"
   ],
   "outputs": [],
   "execution_count": 48
  },
  {
   "cell_type": "code",
   "id": "61cfc080",
   "metadata": {
    "ExecuteTime": {
     "end_time": "2025-08-20T15:33:16.963533Z",
     "start_time": "2025-08-20T15:33:16.951386Z"
    }
   },
   "source": [],
   "outputs": [],
   "execution_count": null
  }
 ],
 "metadata": {
  "kernelspec": {
   "display_name": "Python 3 (ipykernel)",
   "language": "python",
   "name": "python3"
  },
  "language_info": {
   "codemirror_mode": {
    "name": "ipython",
    "version": 3
   },
   "file_extension": ".py",
   "mimetype": "text/x-python",
   "name": "python",
   "nbconvert_exporter": "python",
   "pygments_lexer": "ipython3",
   "version": "3.8.18"
  }
 },
 "nbformat": 4,
 "nbformat_minor": 5
}
